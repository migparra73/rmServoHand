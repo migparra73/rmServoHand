{
 "cells": [
  {
   "cell_type": "code",
   "execution_count": null,
   "metadata": {},
   "outputs": [],
   "source": [
    "import serial\n",
    "import struct\n",
    "from random import uniform\n",
    "from IPython.display import clear_output\n",
    "\n",
    "serialPortName = 'COM6' # Modify this to match what it says in Device Manager.\n",
    "baudRate = 921600\n",
    "i=1\n",
    "ser = serial.Serial(serialPortName, baudRate)\n",
    "#x = ser.read(4*16)\n",
    "x = 0.0\n",
    "desiredAngle = 3.0 #angle goes here, make sure its a floating point number\n",
    "ser.write(desiredAngle)\n",
    "messageBack = ser.readline()\n",
    "messageBack2 = ser.read(4)\n",
    "messageBack3 = ser.readline()\n",
    "messageBack4 = ser.readline()\n",
    "value = struct.unpack('f', messageBack2)\n",
    "#print(value)\n",
    "print(value)\n",
    "ser.close()"
   ]
  }
 ],
 "metadata": {
  "kernelspec": {
   "display_name": "servo",
   "language": "python",
   "name": "python3"
  },
  "language_info": {
   "codemirror_mode": {
    "name": "ipython",
    "version": 3
   },
   "file_extension": ".py",
   "mimetype": "text/x-python",
   "name": "python",
   "nbconvert_exporter": "python",
   "pygments_lexer": "ipython3",
   "version": "3.10.9 | packaged by conda-forge | (main, Jan 11 2023, 15:15:40) [MSC v.1916 64 bit (AMD64)]"
  },
  "orig_nbformat": 4,
  "vscode": {
   "interpreter": {
    "hash": "ad0aad2ec1a043dfd2780e63c6dc7191fb840d26e575ea781361068f11a903d0"
   }
  }
 },
 "nbformat": 4,
 "nbformat_minor": 2
}
