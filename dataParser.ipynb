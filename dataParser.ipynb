{
 "cells": [
  {
   "cell_type": "code",
   "execution_count": null,
   "metadata": {},
   "outputs": [],
   "source": [
    "import serial\n",
    "import struct\n",
    "from random import uniform\n",
    "from IPython.display import clear_output\n",
    "import time\n",
    "\n",
    "serialPortName = 'COM3' # Modify this to match what it says in Device Manager.\n",
    "baudRate = 9600\n",
    "ser = serial.Serial(serialPortName, baudRate)"
   ]
  },
  {
   "cell_type": "code",
   "execution_count": null,
   "metadata": {},
   "outputs": [],
   "source": [
    "id1 = \"\\x01\"\n",
    "id2 = \"\\x02\"\n",
    "id3 = \"\\x03\"\n",
    "id4 = \"\\x04\"\n",
    "id5 = \"\\x05\"\n",
    "id6 = \"\\x06\"\n",
    "\n",
    "binaryId1 = bytes(id1, 'utf-8')\n",
    "binaryId2 = bytes(id2, 'utf-8')\n",
    "binaryId3 = bytes(id3, 'utf-8')\n",
    "binaryId4 = bytes(id4, 'utf-8')\n",
    "binaryId5 = bytes(id5, 'utf-8')\n",
    "binaryId6 = bytes(id6, 'utf-8')\n"
   ]
  },
  {
   "cell_type": "code",
   "execution_count": null,
   "metadata": {},
   "outputs": [],
   "source": [
    "sample = struct.pack(\">cffcffcffcffcffcff\", binaryId1, 90.0, 100.0, binaryId2, 90.0, 100.0, binaryId3, 90.0, 100.0, binaryId4, 90.0, 100.0, binaryId5, 90.0, 100.0, binaryId6, 90.0, 100.0)"
   ]
  },
  {
   "cell_type": "code",
   "execution_count": null,
   "metadata": {},
   "outputs": [],
   "source": [
    "sample2 = b'ThisIsATestToSeeIfWeAreGettingTheRightStuffBackkkkkkkk'\n",
    "print(ser.write(sample2))\n",
    "x = ser.readline()\n",
    "print(x)"
   ]
  },
  {
   "cell_type": "code",
   "execution_count": null,
   "metadata": {},
   "outputs": [],
   "source": []
  },
  {
   "cell_type": "code",
   "execution_count": 23,
   "metadata": {},
   "outputs": [],
   "source": [
    "ser.close()"
   ]
  },
  {
   "cell_type": "code",
   "execution_count": 24,
   "metadata": {},
   "outputs": [
    {
     "ename": "SerialException",
     "evalue": "could not open port 'COM3': PermissionError(13, 'Access is denied.', None, 5)",
     "output_type": "error",
     "traceback": [
      "\u001b[1;31m---------------------------------------------------------------------------\u001b[0m",
      "\u001b[1;31mSerialException\u001b[0m                           Traceback (most recent call last)",
      "Cell \u001b[1;32mIn[24], line 9\u001b[0m\n\u001b[0;32m      7\u001b[0m baudRate \u001b[39m=\u001b[39m \u001b[39m9600\u001b[39m\n\u001b[0;32m      8\u001b[0m i\u001b[39m=\u001b[39m\u001b[39m1\u001b[39m\n\u001b[1;32m----> 9\u001b[0m ser \u001b[39m=\u001b[39m serial\u001b[39m.\u001b[39;49mSerial(serialPortName, baudRate)\n\u001b[0;32m     10\u001b[0m \u001b[39mwhile\u001b[39;00m(\u001b[39m1\u001b[39m):\n\u001b[0;32m     11\u001b[0m     dataStream \u001b[39m=\u001b[39m \u001b[39mb\u001b[39m\u001b[39m'\u001b[39m\u001b[39mHello\u001b[39m\u001b[39m'\u001b[39m\n",
      "File \u001b[1;32mc:\\Users\\migpa\\miniconda3\\envs\\servoHand\\lib\\site-packages\\serial\\serialwin32.py:33\u001b[0m, in \u001b[0;36mSerial.__init__\u001b[1;34m(self, *args, **kwargs)\u001b[0m\n\u001b[0;32m     31\u001b[0m \u001b[39mself\u001b[39m\u001b[39m.\u001b[39m_overlapped_read \u001b[39m=\u001b[39m \u001b[39mNone\u001b[39;00m\n\u001b[0;32m     32\u001b[0m \u001b[39mself\u001b[39m\u001b[39m.\u001b[39m_overlapped_write \u001b[39m=\u001b[39m \u001b[39mNone\u001b[39;00m\n\u001b[1;32m---> 33\u001b[0m \u001b[39msuper\u001b[39m(Serial, \u001b[39mself\u001b[39m)\u001b[39m.\u001b[39m\u001b[39m__init__\u001b[39m(\u001b[39m*\u001b[39margs, \u001b[39m*\u001b[39m\u001b[39m*\u001b[39mkwargs)\n",
      "File \u001b[1;32mc:\\Users\\migpa\\miniconda3\\envs\\servoHand\\lib\\site-packages\\serial\\serialutil.py:244\u001b[0m, in \u001b[0;36mSerialBase.__init__\u001b[1;34m(self, port, baudrate, bytesize, parity, stopbits, timeout, xonxoff, rtscts, write_timeout, dsrdtr, inter_byte_timeout, exclusive, **kwargs)\u001b[0m\n\u001b[0;32m    241\u001b[0m     \u001b[39mraise\u001b[39;00m \u001b[39mValueError\u001b[39;00m(\u001b[39m'\u001b[39m\u001b[39munexpected keyword arguments: \u001b[39m\u001b[39m{!r}\u001b[39;00m\u001b[39m'\u001b[39m\u001b[39m.\u001b[39mformat(kwargs))\n\u001b[0;32m    243\u001b[0m \u001b[39mif\u001b[39;00m port \u001b[39mis\u001b[39;00m \u001b[39mnot\u001b[39;00m \u001b[39mNone\u001b[39;00m:\n\u001b[1;32m--> 244\u001b[0m     \u001b[39mself\u001b[39;49m\u001b[39m.\u001b[39;49mopen()\n",
      "File \u001b[1;32mc:\\Users\\migpa\\miniconda3\\envs\\servoHand\\lib\\site-packages\\serial\\serialwin32.py:64\u001b[0m, in \u001b[0;36mSerial.open\u001b[1;34m(self)\u001b[0m\n\u001b[0;32m     62\u001b[0m \u001b[39mif\u001b[39;00m \u001b[39mself\u001b[39m\u001b[39m.\u001b[39m_port_handle \u001b[39m==\u001b[39m win32\u001b[39m.\u001b[39mINVALID_HANDLE_VALUE:\n\u001b[0;32m     63\u001b[0m     \u001b[39mself\u001b[39m\u001b[39m.\u001b[39m_port_handle \u001b[39m=\u001b[39m \u001b[39mNone\u001b[39;00m    \u001b[39m# 'cause __del__ is called anyway\u001b[39;00m\n\u001b[1;32m---> 64\u001b[0m     \u001b[39mraise\u001b[39;00m SerialException(\u001b[39m\"\u001b[39m\u001b[39mcould not open port \u001b[39m\u001b[39m{!r}\u001b[39;00m\u001b[39m: \u001b[39m\u001b[39m{!r}\u001b[39;00m\u001b[39m\"\u001b[39m\u001b[39m.\u001b[39mformat(\u001b[39mself\u001b[39m\u001b[39m.\u001b[39mportstr, ctypes\u001b[39m.\u001b[39mWinError()))\n\u001b[0;32m     66\u001b[0m \u001b[39mtry\u001b[39;00m:\n\u001b[0;32m     67\u001b[0m     \u001b[39mself\u001b[39m\u001b[39m.\u001b[39m_overlapped_read \u001b[39m=\u001b[39m win32\u001b[39m.\u001b[39mOVERLAPPED()\n",
      "\u001b[1;31mSerialException\u001b[0m: could not open port 'COM3': PermissionError(13, 'Access is denied.', None, 5)"
     ]
    }
   ],
   "source": [
    "import serial\n",
    "import struct\n",
    "from random import uniform\n",
    "from IPython.display import clear_output\n",
    "\n",
    "serialPortName = 'COM4' # Modify this to match what it says in Device Manager.\n",
    "baudRate = 9600\n",
    "i=1\n",
    "ser = serial.Serial(serialPortName, baudRate)\n",
    "while(1):\n",
    "    dataStream = b'Hello'\n",
    "    ser.write(dataStream)\n",
    "    messageBack = ser.read(5)\n",
    "    print(messageBack)\n",
    "    i = i + 1\n",
    "ser.close()"
   ]
  }
 ],
 "metadata": {
  "kernelspec": {
   "display_name": "servoHand",
   "language": "python",
   "name": "python3"
  },
  "language_info": {
   "codemirror_mode": {
    "name": "ipython",
    "version": 3
   },
   "file_extension": ".py",
   "mimetype": "text/x-python",
   "name": "python",
   "nbconvert_exporter": "python",
   "pygments_lexer": "ipython3",
   "version": "3.10.9"
  },
  "orig_nbformat": 4,
  "vscode": {
   "interpreter": {
    "hash": "a9fc8eb40826e94b04105756a4967419983f37446b64019fad422e61833abe44"
   }
  }
 },
 "nbformat": 4,
 "nbformat_minor": 2
}
