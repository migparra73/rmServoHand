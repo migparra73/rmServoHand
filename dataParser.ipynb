{
 "cells": [
  {
   "cell_type": "code",
   "execution_count": null,
   "metadata": {},
   "outputs": [],
   "source": [
    "import serial\n",
    "import struct\n",
    "from random import uniform\n",
    "from IPython.display import clear_output\n",
    "\n",
    "serialPortName = 'COM6' # Modify this to match what it says in Device Manager.\n",
    "baudRate = 9600\n",
    "ser = serial.Serial(serialPortName, baudRate)\n",
    "\n",
    "#message format\n",
    "# id, goalAngle, profileVelocity\n",
    "buffer = struct.pack(\"cffcffcffcffcffcff\", 1, 90.0, 100.0, 2, 90.0, 100.0, 3, 90.0, 100.0, 4, 90.0, 100.0, 5, 90.0, 100.0, 6, 90.0, 100.0) # 6 motors, 6 repeats\n",
    "ser.write(buffer)\n",
    "\n",
    "ser.close()"
   ]
  }
 ],
 "metadata": {
  "kernelspec": {
   "display_name": "servo",
   "language": "python",
   "name": "python3"
  },
  "language_info": {
   "codemirror_mode": {
    "name": "ipython",
    "version": 3
   },
   "file_extension": ".py",
   "mimetype": "text/x-python",
   "name": "python",
   "nbconvert_exporter": "python",
   "pygments_lexer": "ipython3",
   "version": "3.10.9"
  },
  "orig_nbformat": 4,
  "vscode": {
   "interpreter": {
    "hash": "ad0aad2ec1a043dfd2780e63c6dc7191fb840d26e575ea781361068f11a903d0"
   }
  }
 },
 "nbformat": 4,
 "nbformat_minor": 2
}
