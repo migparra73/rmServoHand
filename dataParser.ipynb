{
 "cells": [
  {
   "cell_type": "code",
   "execution_count": null,
   "metadata": {},
   "outputs": [],
   "source": [
    "import serial\n",
    "import struct\n",
    "from random import uniform\n",
    "from IPython.display import clear_output\n",
    "\n",
    "serialPortName = 'COM6' # Modify this to match what it says in Device Manager.\n",
    "baudRate = 921600\n",
    "i=1\n",
    "ser = serial.Serial(serialPortName, baudRate)\n",
    "#x = ser.read(4*16)\n",
    "desiredAngle = 3.0 #angle goes here, make sure its a floating point number\n",
    "ser.write(desiredAngle)\n",
    "messageBack = ser.readline()\n",
    "messageBack2 = ser.read(1)\n",
    "#value = struct.unpack('ffffffffffffffff', x)\n",
    "#print(value)\n",
    "print(messageBack)\n",
    "print(messageBack2)\n",
    "ser.close()"
   ]
  }
 ],
 "metadata": {
  "kernelspec": {
   "display_name": "serial",
   "language": "python",
   "name": "python3"
  },
  "language_info": {
   "codemirror_mode": {
    "name": "ipython",
    "version": 3
   },
   "file_extension": ".py",
   "mimetype": "text/x-python",
   "name": "python",
   "nbconvert_exporter": "python",
   "pygments_lexer": "ipython3",
   "version": "3.10.6 | packaged by conda-forge | (main, Oct 24 2022, 16:02:16) [MSC v.1916 64 bit (AMD64)]"
  },
  "orig_nbformat": 4,
  "vscode": {
   "interpreter": {
    "hash": "cae197ee2b62dbec912469439769cc798cdfe0a85cdce63fb2000b6e4c3fb3cc"
   }
  }
 },
 "nbformat": 4,
 "nbformat_minor": 2
}
