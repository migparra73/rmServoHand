{
 "cells": [
  {
   "cell_type": "code",
   "execution_count": null,
   "metadata": {},
   "outputs": [],
   "source": [
    "import serial\n",
    "import struct\n",
    "from random import uniform\n",
    "from IPython.display import clear_output\n",
    "\n",
    "serialPortName = 'COM6' # Modify this to match what it says in Device Manager.\n",
    "baudRate = 921600\n",
    "i=1\n",
    "ser = serial.Serial(serialPortName, baudRate)\n",
    "while(1):\n",
    "    x = ser.read(4*16)\n",
    "    dataStream = b'Hello'\n",
    "    ser.write(dataStream)\n",
    "    messageBack = ser.read(5)\n",
    "    value = struct.unpack('ffffffffffffffff', x)\n",
    "    print(value)\n",
    "    print(messageBack)\n",
    "    i = i + 1\n",
    "ser.close()"
   ]
  },
  {
   "cell_type": "code",
   "execution_count": null,
   "metadata": {},
   "outputs": [],
   "source": [
    "print(messageBack)"
   ]
  },
  {
   "cell_type": "code",
   "execution_count": null,
   "metadata": {},
   "outputs": [],
   "source": [
    "i"
   ]
  },
  {
   "cell_type": "code",
   "execution_count": null,
   "metadata": {},
   "outputs": [],
   "source": []
  },
  {
   "cell_type": "code",
   "execution_count": 1,
   "metadata": {},
   "outputs": [
    {
     "ename": "NameError",
     "evalue": "name 'ser' is not defined",
     "output_type": "error",
     "traceback": [
      "\u001b[1;31m---------------------------------------------------------------------------\u001b[0m",
      "\u001b[1;31mNameError\u001b[0m                                 Traceback (most recent call last)",
      "Cell \u001b[1;32mIn [1], line 1\u001b[0m\n\u001b[1;32m----> 1\u001b[0m ser\u001b[39m.\u001b[39mclose()\n",
      "\u001b[1;31mNameError\u001b[0m: name 'ser' is not defined"
     ]
    }
   ],
   "source": [
    "ser.close()"
   ]
  }
 ],
 "metadata": {
  "kernelspec": {
   "display_name": "serial",
   "language": "python",
   "name": "python3"
  },
  "language_info": {
   "codemirror_mode": {
    "name": "ipython",
    "version": 3
   },
   "file_extension": ".py",
   "mimetype": "text/x-python",
   "name": "python",
   "nbconvert_exporter": "python",
   "pygments_lexer": "ipython3",
   "version": "3.10.6"
  },
  "orig_nbformat": 4,
  "vscode": {
   "interpreter": {
    "hash": "cae197ee2b62dbec912469439769cc798cdfe0a85cdce63fb2000b6e4c3fb3cc"
   }
  }
 },
 "nbformat": 4,
 "nbformat_minor": 2
}
